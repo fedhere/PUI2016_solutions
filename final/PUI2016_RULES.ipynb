{
 "cells": [
  {
   "cell_type": "markdown",
   "metadata": {},
   "source": [
    "#PUI2015_RULES"
   ]
  },
  {
   "cell_type": "markdown",
   "metadata": {},
   "source": [
    "##This exam is take home. Deliver your solution as an ipython notebook uploading it to NYUclasses BY 12/22/2016 at 11:59:59 PM \n",
    "##Work alone. If you have questions feel free to ask them to your instructors and TAs. High level intellectual discussion is never forbidden, so general, conceptual questions can be discussed with your class mates, but do not exchange code, or algorithms (specific solution design)\n",
    "\n"
   ]
  },
  {
   "cell_type": "markdown",
   "metadata": {},
   "source": [
    "Cite works of others when you use it. That does not mean that you have to cite stackoverflow for every line of code you get there, but if you lift functions or significant chunks of code from other people, for example from their GitHub repos, cite the source.  Since this problem is concieved by us for your final there is no such thing as \"copying the solution\". You are not going to be penalized for researching and using code that is relevant to obtain your solution (this of course does not apply to researching from your classmates codes. See comments above.) "
   ]
  },
  {
   "cell_type": "markdown",
   "metadata": {},
   "source": [
    "Make sure your work is reproducible. Do not use paths that are unique to you and the machine you are working on (e.g. that include your username!) or, since you are not supposed to upload data, even paths that are not the ones we agreed upon (where we will have a copy of the data). You can use the environmental variable PUI2015 to point to the data that is stored there, or the local path and store your data in the working directory (the directory where the notebook is running, which does not need to be spelled out as it is the default path), or you can use urls.\n"
   ]
  },
  {
   "cell_type": "markdown",
   "metadata": {},
   "source": [
    "Please label your plots, answer all questions, produce whatever outputs and plots we reqest you to produce, and any additional output that helps you in the process, but try and remove useless and redundant outputs from your final version, so that it is easy for us to parse it. If you leave a plot it, do explain what it is and what it is used for: there shall be no unlabelled plots. \n",
    "\n",
    "Clearly state your answers in separate cells, so they are not lost in the notebook, and we can clearly notice them. "
   ]
  },
  {
   "cell_type": "markdown",
   "metadata": {},
   "source": [
    "Be PEP8 compliant. We will be stricter than in the midterm. Disregard of the \"simplest most basic PEP8 rules\" will be punished.  The complete rules here https://www.python.org/dev/peps/pep-0008/ https://code.google.com/p/soc/wiki/PythonStyleGuide.\n",
    "If you forgot the \"simplest most basic PEP8 rules\" which are the very minimum we require, they are here https://docs.google.com/document/d/1-XnKK4xRBA5FXOBa4p0Z4in7qfVyk4CutjSMEX-jpTQ/edit?usp=sharing"
   ]
  }
 ],
 "metadata": {
  "kernelspec": {
   "display_name": "Python 2",
   "language": "python",
   "name": "python2"
  },
  "language_info": {
   "codemirror_mode": {
    "name": "ipython",
    "version": 2
   },
   "file_extension": ".py",
   "mimetype": "text/x-python",
   "name": "python",
   "nbconvert_exporter": "python",
   "pygments_lexer": "ipython2",
   "version": "2.7.3"
  }
 },
 "nbformat": 4,
 "nbformat_minor": 0
}
