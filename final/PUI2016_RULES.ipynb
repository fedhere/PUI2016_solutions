{
 "cells": [
  {
   "cell_type": "markdown",
   "metadata": {},
   "source": [
    "# PUI2016_RULES"
   ]
  },
  {
   "cell_type": "markdown",
   "metadata": {},
   "source": [
    "## This exam is take home. Deliver your solution as an ipython notebook uploading it to NYUclasses BY 12/20/2016 at 9:00 AM \n",
    "## Work alone. If you have questions feel free to ask them to your instructors and TAs. High level intellectual discussion is never forbidden, so general, conceptual questions can be discussed with your class mates, but do not exchange code, or algorithms (specific solution design)\n",
    "\n"
   ]
  },
  {
   "cell_type": "markdown",
   "metadata": {},
   "source": [
    "**Grading** Generally each step outlined above earns you a point (unless specified otherwise as for step 8) (or a fraction of a point for being done partially or not entirely correctly etc). Largely the grading will be on the outputs: yout tables and plots, and your comments. I will inspect code patches, and look at code where the output is not right to see what was incorrect and grade accordingly. The patches of code I inspect must be PEP8 compliant."
   ]
  },
  {
   "cell_type": "markdown",
   "metadata": {},
   "source": [
    "**Cite works of others when you use it.** That does not mean that you have to cite stackoverflow for every line of code you get there, or every line of code you inherited from me and the other lecturers of this class, but if you lift functions or significant chunks of code from other people, for example from their GitHub repos, cite the source.  Since this problem is concieved by me for your final there is no such thing as \"copying the solution\". You are not going to be penalized for researching and using code that is relevant to obtain your solution (this of course does not apply to researching from your classmates codes. See comments above.) "
   ]
  },
  {
   "cell_type": "markdown",
   "metadata": {},
   "source": [
    "**Make sure your work is reproducible.** Do not use paths that are unique to you and the machine you are working on (e.g. that include your username!) or, since you are not supposed to upload data, even paths that are not the ones we agreed upon (where we will have a copy of the data). You can use the environmental variable PUIDATA to point to the data that is stored there, or you can use urls, APIs, the data facility. If you download data the lines of code that download the data should be in the notebook. When not possible give details on what you downloaded, the relevant URLs and options you had to go tyhrough and instructions on how to reproduce it and obtain the same file (for this exam this may very well be needed!) as comments in your notebook.\n"
   ]
  },
  {
   "cell_type": "markdown",
   "metadata": {},
   "source": [
    "**Make it a preseentation:** please label your plots, answer all questions, produce whatever outputs and plots we reqest you to produce, and any additional output that helps you in the process, but try and remove useless and redundant outputs from your final version, so that your notebook looks like a presentation (and it is easy for us me to parse it). If you leave a plot it, do explain what it is and what it is used for: there shall be no unlabelled plots or unexplained outputs. \n",
    "\n",
    "**Comment on what you are discovering**! The codind is a mean to an end. The end is scientific inference, which lives in your findings and your interpretation of them.\n",
    "\n",
    "**Clearly state your answers in separate cells**, so they are not lost in the notebook, and we can clearly notice them. "
   ]
  },
  {
   "cell_type": "markdown",
   "metadata": {},
   "source": [
    "**Be PEP8 compliant**. Disregard of the \"simplest most basic PEP8 rules\" will cost you points.  The complete rules here https://www.python.org/dev/peps/pep-0008/ https://code.google.com/p/soc/wiki/PythonStyleGuide.\n",
    "If you forgot the \"simplest most basic PEP8 rules\" which are the very minimum we require, they are here https://docs.google.com/document/d/1-XnKK4xRBA5FXOBa4p0Z4in7qfVyk4CutjSMEX-jpTQ/edit?usp=sharing"
   ]
  }
 ],
 "metadata": {
  "kernelspec": {
   "display_name": "Python 2",
   "language": "python",
   "name": "python2"
  },
  "language_info": {
   "codemirror_mode": {
    "name": "ipython",
    "version": 2
   },
   "file_extension": ".py",
   "mimetype": "text/x-python",
   "name": "python",
   "nbconvert_exporter": "python",
   "pygments_lexer": "ipython2",
   "version": "2.7.11"
  }
 },
 "nbformat": 4,
 "nbformat_minor": 0
}
