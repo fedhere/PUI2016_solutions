{
 "cells": [
  {
   "cell_type": "code",
   "execution_count": 25,
   "metadata": {
    "collapsed": false
   },
   "outputs": [
    {
     "name": "stdout",
     "output_type": "stream",
     "text": [
      "Populating the interactive namespace from numpy and matplotlib\n"
     ]
    }
   ],
   "source": [
    "from __future__ import print_function\n",
    "__author__ = '__fbb__'\n",
    "\n",
    "import os \n",
    "import pandas as pd\n",
    "DFDATA = \"/gws/open/NYCOpenData/nycopendata/data/\"\n",
    "%pylab inline"
   ]
  },
  {
   "cell_type": "code",
   "execution_count": 84,
   "metadata": {
    "collapsed": false
   },
   "outputs": [
    {
     "data": {
      "text/plain": [
       "' Reads in CSV files from the CUSP Data Facility and plots numberical values and time series\\nNOTE: must have the DFDATA environmental variable pointing to \"/gws/open/NYCOpenData/nycopendata/data/\"\\nPart 1 uses the Natural Gas Consumption data https://datahub.cusp.nyu.edu/dataset/uedp-fegm\\nPart 2 uses the Social Media NYC data https://datahub.cusp.nyu.edu/dataset/5b3a-rs48\\n'"
      ]
     },
     "execution_count": 84,
     "metadata": {},
     "output_type": "execute_result"
    }
   ],
   "source": [
    "''' Reads in CSV files from the CUSP Data Facility and plots numberical values and time series\n",
    "NOTE: must have the DFDATA environmental variable pointing to \"/gws/open/NYCOpenData/nycopendata/data/\"\n",
    "Part 1 uses the Natural Gas Consumption data https://datahub.cusp.nyu.edu/dataset/uedp-fegm\n",
    "Part 2 uses the Social Media metions of NYC agencies data https://datahub.cusp.nyu.edu/dataset/5b3a-rs48\n",
    "'''"
   ]
  },
  {
   "cell_type": "markdown",
   "metadata": {},
   "source": [
    "## Part 1. Gas Data"
   ]
  },
  {
   "cell_type": "code",
   "execution_count": 86,
   "metadata": {
    "collapsed": false
   },
   "outputs": [
    {
     "data": {
      "text/plain": [
       "Index([u'Zip Code', u'Building type (service class', u' Consumption (therms) ',\n",
       "       u' Consumption (GJ) ', u'Utility/Data Source'],\n",
       "      dtype='object')"
      ]
     },
     "execution_count": 86,
     "metadata": {},
     "output_type": "execute_result"
    }
   ],
   "source": [
    "# read in gas data\n",
    "df_gas = pd.read_csv(DFDATA + \"/uedp-fegm/1414245967/uedp-fegm\")\n",
    "df_gas.columns"
   ]
  },
  {
   "cell_type": "code",
   "execution_count": 87,
   "metadata": {
    "collapsed": false
   },
   "outputs": [
    {
     "data": {
      "text/html": [
       "<div style=\"max-height:1000px;max-width:1500px;overflow:auto;\">\n",
       "<table border=\"1\" class=\"dataframe\">\n",
       "  <thead>\n",
       "    <tr style=\"text-align: right;\">\n",
       "      <th></th>\n",
       "      <th>Zip Code</th>\n",
       "      <th>Building type (service class</th>\n",
       "      <th>Consumption (therms)</th>\n",
       "      <th>Consumption (GJ)</th>\n",
       "      <th>Utility/Data Source</th>\n",
       "    </tr>\n",
       "  </thead>\n",
       "  <tbody>\n",
       "    <tr>\n",
       "      <th>0</th>\n",
       "      <td>10001\\n(40.75025902143676, -73.99688630375988)</td>\n",
       "      <td>Residential</td>\n",
       "      <td>58338</td>\n",
       "      <td>6155</td>\n",
       "      <td>ConEd</td>\n",
       "    </tr>\n",
       "    <tr>\n",
       "      <th>1</th>\n",
       "      <td>10002\\n(40.71612146793143, -73.98583147024613)</td>\n",
       "      <td>Residential</td>\n",
       "      <td>550055</td>\n",
       "      <td>58034</td>\n",
       "      <td>ConEd</td>\n",
       "    </tr>\n",
       "    <tr>\n",
       "      <th>2</th>\n",
       "      <td>10003\\n(40.73194394755518, -73.98887214913032)</td>\n",
       "      <td>Residential</td>\n",
       "      <td>260502</td>\n",
       "      <td>27484</td>\n",
       "      <td>ConEd</td>\n",
       "    </tr>\n",
       "    <tr>\n",
       "      <th>3</th>\n",
       "      <td>10005\\n(40.7061257920717, -74.00858468583453)</td>\n",
       "      <td>Residential</td>\n",
       "      <td>265</td>\n",
       "      <td>28</td>\n",
       "      <td>ConEd</td>\n",
       "    </tr>\n",
       "    <tr>\n",
       "      <th>4</th>\n",
       "      <td>10006\\n(40.70825614030866, -74.01355356964149)</td>\n",
       "      <td>Residential</td>\n",
       "      <td>2076</td>\n",
       "      <td>219</td>\n",
       "      <td>ConEd</td>\n",
       "    </tr>\n",
       "  </tbody>\n",
       "</table>\n",
       "</div>"
      ],
      "text/plain": [
       "                                         Zip Code  \\\n",
       "0  10001\\n(40.75025902143676, -73.99688630375988)   \n",
       "1  10002\\n(40.71612146793143, -73.98583147024613)   \n",
       "2  10003\\n(40.73194394755518, -73.98887214913032)   \n",
       "3   10005\\n(40.7061257920717, -74.00858468583453)   \n",
       "4  10006\\n(40.70825614030866, -74.01355356964149)   \n",
       "\n",
       "  Building type (service class   Consumption (therms)    Consumption (GJ)   \\\n",
       "0                  Residential                   58338                6155   \n",
       "1                  Residential                  550055               58034   \n",
       "2                  Residential                  260502               27484   \n",
       "3                  Residential                     265                  28   \n",
       "4                  Residential                    2076                 219   \n",
       "\n",
       "  Utility/Data Source  \n",
       "0               ConEd  \n",
       "1               ConEd  \n",
       "2               ConEd  \n",
       "3               ConEd  \n",
       "4               ConEd  "
      ]
     },
     "execution_count": 87,
     "metadata": {},
     "output_type": "execute_result"
    }
   ],
   "source": [
    "# display top rows of gas data table \n",
    "df_gas.head()"
   ]
  },
  {
   "cell_type": "code",
   "execution_count": 88,
   "metadata": {
    "collapsed": false
   },
   "outputs": [
    {
     "data": {
      "text/html": [
       "<div style=\"max-height:1000px;max-width:1500px;overflow:auto;\">\n",
       "<table border=\"1\" class=\"dataframe\">\n",
       "  <thead>\n",
       "    <tr style=\"text-align: right;\">\n",
       "      <th></th>\n",
       "      <th>Consumption (therms)</th>\n",
       "      <th>Consumption (GJ)</th>\n",
       "    </tr>\n",
       "  </thead>\n",
       "  <tbody>\n",
       "    <tr>\n",
       "      <th>0</th>\n",
       "      <td>58338</td>\n",
       "      <td>6155</td>\n",
       "    </tr>\n",
       "    <tr>\n",
       "      <th>1</th>\n",
       "      <td>550055</td>\n",
       "      <td>58034</td>\n",
       "    </tr>\n",
       "    <tr>\n",
       "      <th>2</th>\n",
       "      <td>260502</td>\n",
       "      <td>27484</td>\n",
       "    </tr>\n",
       "    <tr>\n",
       "      <th>3</th>\n",
       "      <td>265</td>\n",
       "      <td>28</td>\n",
       "    </tr>\n",
       "    <tr>\n",
       "      <th>4</th>\n",
       "      <td>2076</td>\n",
       "      <td>219</td>\n",
       "    </tr>\n",
       "  </tbody>\n",
       "</table>\n",
       "</div>"
      ],
      "text/plain": [
       "    Consumption (therms)    Consumption (GJ) \n",
       "0                   58338                6155\n",
       "1                  550055               58034\n",
       "2                  260502               27484\n",
       "3                     265                  28\n",
       "4                    2076                 219"
      ]
     },
     "execution_count": 88,
     "metadata": {},
     "output_type": "execute_result"
    }
   ],
   "source": [
    "# remove columns not to be used and display the reducted table\n",
    "df_gas.drop(['Zip Code', u'Building type (service class', u'Utility/Data Source'], axis=1, inplace=True)\n",
    "df_gas.head()"
   ]
  },
  {
   "cell_type": "code",
   "execution_count": 98,
   "metadata": {
    "collapsed": false
   },
   "outputs": [
    {
     "data": {
      "text/plain": [
       "<matplotlib.text.Text at 0x7f4571584d90>"
      ]
     },
     "execution_count": 98,
     "metadata": {},
     "output_type": "execute_result"
    },
    {
     "data": {
      "image/png": "[encoded data removed]",
      "text/plain": [
       "<matplotlib.figure.Figure at 0x7f4600125050>"
      ]
     },
     "metadata": {},
     "output_type": "display_data"
    }
   ],
   "source": [
    "# plot Gas comsumption \n",
    "ax_gas = df_gas.plot(x = ' Consumption (therms) ', y = ' Consumption (GJ) ', kind = 'scatter', \n",
    "            s = 3, title = \"NYC gas Consumption\", figsize = (10,10), fontsize = 18)\n",
    "ax_gas.set_xlabel('Consumption (therms)', fontsize = 20)\n",
    "ax_gas.set_ylabel('Consumption (GJ)', fontsize = 20)"
   ]
  },
  {
   "cell_type": "markdown",
   "metadata": {},
   "source": [
    "### Figure 1.\n",
    "This figure show the consumption in units of _Giga Jules_ plotted againsty the consumption in units of _therms_. Since the relation is linear (it is just a unit conversion) we expect a 1-to-1 mapping of one value to the other. Fortunately that is what we see indicating no mistakes or issues with the data."
   ]
  },
  {
   "cell_type": "markdown",
   "metadata": {},
   "source": [
    "## Part 2. Social Media Data"
   ]
  },
  {
   "cell_type": "code",
   "execution_count": 102,
   "metadata": {
    "collapsed": false
   },
   "outputs": [
    {
     "data": {
      "text/plain": [
       "Index([u'Agency', u'Platform', u'Url', u'Date Sampled',\n",
       "       u'Likes/Followers/Visits/Downloads'],\n",
       "      dtype='object')"
      ]
     },
     "execution_count": 102,
     "metadata": {},
     "output_type": "execute_result"
    }
   ],
   "source": [
    "# read in Social Media data\n",
    "df_sm = pd.read_csv(DFDATA + \"/5b3a-rs48/1414245944/5b3a-rs48\")\n",
    "df_sm.columns"
   ]
  },
  {
   "cell_type": "code",
   "execution_count": 103,
   "metadata": {
    "collapsed": false
   },
   "outputs": [
    {
     "data": {
      "text/html": [
       "<div style=\"max-height:1000px;max-width:1500px;overflow:auto;\">\n",
       "<table border=\"1\" class=\"dataframe\">\n",
       "  <thead>\n",
       "    <tr style=\"text-align: right;\">\n",
       "      <th></th>\n",
       "      <th>Agency</th>\n",
       "      <th>Platform</th>\n",
       "      <th>Url</th>\n",
       "      <th>Date Sampled</th>\n",
       "      <th>Likes/Followers/Visits/Downloads</th>\n",
       "    </tr>\n",
       "  </thead>\n",
       "  <tbody>\n",
       "    <tr>\n",
       "      <th>0</th>\n",
       "      <td>nycgov</td>\n",
       "      <td>Google+</td>\n",
       "      <td>https://plus.google.com/u/0/b/1040309112776424...</td>\n",
       "      <td>12/12/2012 12:00:00 AM</td>\n",
       "      <td>NaN</td>\n",
       "    </tr>\n",
       "    <tr>\n",
       "      <th>1</th>\n",
       "      <td>TLC</td>\n",
       "      <td>Facebook</td>\n",
       "      <td>http://www.facebook.com/pages/NYC-Taxi-and-Lim...</td>\n",
       "      <td>12/12/2012 12:00:00 AM</td>\n",
       "      <td>505</td>\n",
       "    </tr>\n",
       "    <tr>\n",
       "      <th>2</th>\n",
       "      <td>DRIS</td>\n",
       "      <td>YouTube</td>\n",
       "      <td>http://www.youtube.com/nycdeptofrecords</td>\n",
       "      <td>12/12/2012 12:00:00 AM</td>\n",
       "      <td>NaN</td>\n",
       "    </tr>\n",
       "    <tr>\n",
       "      <th>3</th>\n",
       "      <td>Veteran's Affairs</td>\n",
       "      <td>Youtube</td>\n",
       "      <td>http://www.youtube.com/channel/UCi6IvOszIb3hHP...</td>\n",
       "      <td>12/12/2012 12:00:00 AM</td>\n",
       "      <td>NaN</td>\n",
       "    </tr>\n",
       "    <tr>\n",
       "      <th>4</th>\n",
       "      <td>NYC Water</td>\n",
       "      <td>Youtube</td>\n",
       "      <td>http://www.youtube.com/nycwater</td>\n",
       "      <td>12/12/2012 12:00:00 AM</td>\n",
       "      <td>NaN</td>\n",
       "    </tr>\n",
       "  </tbody>\n",
       "</table>\n",
       "</div>"
      ],
      "text/plain": [
       "              Agency  Platform  \\\n",
       "0             nycgov   Google+   \n",
       "1                TLC  Facebook   \n",
       "2               DRIS   YouTube   \n",
       "3  Veteran's Affairs   Youtube   \n",
       "4          NYC Water   Youtube   \n",
       "\n",
       "                                                 Url            Date Sampled  \\\n",
       "0  https://plus.google.com/u/0/b/1040309112776424...  12/12/2012 12:00:00 AM   \n",
       "1  http://www.facebook.com/pages/NYC-Taxi-and-Lim...  12/12/2012 12:00:00 AM   \n",
       "2            http://www.youtube.com/nycdeptofrecords  12/12/2012 12:00:00 AM   \n",
       "3  http://www.youtube.com/channel/UCi6IvOszIb3hHP...  12/12/2012 12:00:00 AM   \n",
       "4                    http://www.youtube.com/nycwater  12/12/2012 12:00:00 AM   \n",
       "\n",
       "   Likes/Followers/Visits/Downloads  \n",
       "0                               NaN  \n",
       "1                               505  \n",
       "2                               NaN  \n",
       "3                               NaN  \n",
       "4                               NaN  "
      ]
     },
     "execution_count": 103,
     "metadata": {},
     "output_type": "execute_result"
    }
   ],
   "source": [
    "# display top rows of Social Media data table \n",
    "df_sm.head()"
   ]
  },
  {
   "cell_type": "code",
   "execution_count": 104,
   "metadata": {
    "collapsed": false
   },
   "outputs": [
    {
     "data": {
      "text/html": [
       "<div style=\"max-height:1000px;max-width:1500px;overflow:auto;\">\n",
       "<table border=\"1\" class=\"dataframe\">\n",
       "  <thead>\n",
       "    <tr style=\"text-align: right;\">\n",
       "      <th></th>\n",
       "      <th>Likes/Followers/Visits/Downloads</th>\n",
       "      <th>DateSampled</th>\n",
       "    </tr>\n",
       "  </thead>\n",
       "  <tbody>\n",
       "    <tr>\n",
       "      <th>0</th>\n",
       "      <td>NaN</td>\n",
       "      <td>2012-12-12</td>\n",
       "    </tr>\n",
       "    <tr>\n",
       "      <th>1</th>\n",
       "      <td>505</td>\n",
       "      <td>2012-12-12</td>\n",
       "    </tr>\n",
       "    <tr>\n",
       "      <th>2</th>\n",
       "      <td>NaN</td>\n",
       "      <td>2012-12-12</td>\n",
       "    </tr>\n",
       "    <tr>\n",
       "      <th>3</th>\n",
       "      <td>NaN</td>\n",
       "      <td>2012-12-12</td>\n",
       "    </tr>\n",
       "    <tr>\n",
       "      <th>4</th>\n",
       "      <td>NaN</td>\n",
       "      <td>2012-12-12</td>\n",
       "    </tr>\n",
       "  </tbody>\n",
       "</table>\n",
       "</div>"
      ],
      "text/plain": [
       "   Likes/Followers/Visits/Downloads DateSampled\n",
       "0                               NaN  2012-12-12\n",
       "1                               505  2012-12-12\n",
       "2                               NaN  2012-12-12\n",
       "3                               NaN  2012-12-12\n",
       "4                               NaN  2012-12-12"
      ]
     },
     "execution_count": 104,
     "metadata": {},
     "output_type": "execute_result"
    }
   ],
   "source": [
    "# convert date string to date time objects and remove columns not to be used and display the reducted table\n",
    "df_sm['DateSampled'] = pd.to_datetime(df_sm['Date Sampled'])\n",
    "df_sm.drop([u'Agency', u'Platform', u'Url', 'Date Sampled'], axis = 1, inplace = True)\n",
    "df_sm.head()"
   ]
  },
  {
   "cell_type": "code",
   "execution_count": 105,
   "metadata": {
    "collapsed": false
   },
   "outputs": [
    {
     "data": {
      "text/plain": [
       "count                    5899\n",
       "unique                     20\n",
       "top       2012-09-21 00:00:00\n",
       "freq                      295\n",
       "first     2011-08-08 00:00:00\n",
       "last      2012-12-12 00:00:00\n",
       "Name: DateSampled, dtype: object"
      ]
     },
     "execution_count": 105,
     "metadata": {},
     "output_type": "execute_result"
    }
   ],
   "source": [
    "# display further information on the datetime series to assure conversion was succesful\n",
    "df_sm.DateSampled.describe()"
   ]
  },
  {
   "cell_type": "code",
   "execution_count": 112,
   "metadata": {
    "collapsed": false
   },
   "outputs": [
    {
     "data": {
      "text/plain": [
       "<matplotlib.text.Text at 0x7f4570506f50>"
      ]
     },
     "execution_count": 112,
     "metadata": {},
     "output_type": "execute_result"
    },
    {
     "data": {
      "image/png": "[encoded data removed]",
      "text/plain": [
       "<matplotlib.figure.Figure at 0x7f4570f1ad90>"
      ]
     },
     "metadata": {},
     "output_type": "display_data"
    }
   ],
   "source": [
    "# plot a time series of Social Media activity\n",
    "ax = df_sm.plot(x = 'DateSampled', y = 'Likes/Followers/Visits/Downloads', rot=90, \n",
    "                figsize = (10,10), fontsize = 18, \n",
    "                title = \"NYC Agencies social media activity 2011-08-08 to 2012-12-12\")\n",
    "\n",
    "ax.set_ylabel(\"Number of\", fontsize = 18)\n",
    "ax.set_xlabel(\"Date\", fontsize = 18)\n"
   ]
  },
  {
   "cell_type": "markdown",
   "metadata": {},
   "source": [
    "## Figure 2\n",
    "This figure displays the social media activity involving mentions of NYC Agencies from October 2011 through December 2012. We see a steady increase in the activity, although the time behavior is irregular and semi-periodic spikes corresponding to ~10-fold increase in the activity are visible throughout the entire timeline. It would be interesting to investigate what these spikes corresponds to: we can speculate they may occurr in occasion of promotional events by the agencies (including hackathons), or in occasion of events of city relevance in NYC.\n"
   ]
  },
  {
   "cell_type": "code",
   "execution_count": null,
   "metadata": {
    "collapsed": true
   },
   "outputs": [],
   "source": []
  }
 ],
 "metadata": {
  "kernelspec": {
   "display_name": "Python 2",
   "language": "python",
   "name": "python2"
  },
  "language_info": {
   "codemirror_mode": {
    "name": "ipython",
    "version": 2
   },
   "file_extension": ".py",
   "mimetype": "text/x-python",
   "name": "python",
   "nbconvert_exporter": "python",
   "pygments_lexer": "ipython2",
   "version": "2.7.11"
  }
 },
 "nbformat": 4,
 "nbformat_minor": 0
}
