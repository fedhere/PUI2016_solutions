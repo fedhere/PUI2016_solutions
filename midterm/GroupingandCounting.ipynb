{
 "cells": [
  {
   "cell_type": "markdown",
   "metadata": {},
   "source": [
    "# Grouping and counting"
   ]
  },
  {
   "cell_type": "markdown",
   "metadata": {},
   "source": [
    "You want to regress number of rides per zip code on number of residential units per zip code.\n",
    "\n",
    "In order to do that you need to count the total number of units per zip code and the total number of trips per zip code. \n",
    "\n",
    "These variables are inherently a bit different: each entry of the rides dataframe contains a single  trip: thus you want to \"count\" the number of entries with a given zip.\n",
    "\n",
    "However every Pluto data contains one entry per building, and a building contains many residential units, and there are multiple buildings per zip code: thus you want to \"sum\" all those units for all those buildings with a given zip. \n",
    "\n",
    "The first case we have already done more then once. Ye counted the number of trips per customer type grouped by day of the week for example in your homework:\n",
    "\n"
   ]
  },
  {
   "cell_type": "code",
   "execution_count": null,
   "metadata": {
    "collapsed": true
   },
   "outputs": [],
   "source": [
    "#this is how it looked in HW3, and it is more complicated then we need here!\n",
    "df.ageM.groupby(pd.cut(df.ageM, bins)).agg([count_nonzero])"
   ]
  },
  {
   "cell_type": "markdown",
   "metadata": {},
   "source": [
    "there we created an array \"bins\", here the bins are the different zip codes: we already have that array, we do not need to create a new bins array - it is simply one of the series in our dataframe! (the one we created in the previous step for the citibike dataframe, and the one that was already in the Pluto data). \n",
    "\n",
    "And we do not even need to aggregate and count, because each zip code is already unique: in the citibike data we just need to count the trip by zip code"
   ]
  },
  {
   "cell_type": "code",
   "execution_count": null,
   "metadata": {
    "collapsed": true
   },
   "outputs": [],
   "source": [
    "myarray1 = (my_rides_dataframe['start station id'].groupby(my_rides_dataframe['ZipCode']).count())"
   ]
  },
  {
   "cell_type": "markdown",
   "metadata": {},
   "source": [
    "Notice that if you want to group further (say by station id) then you may need to sum. Say you want to find all residential units in HW6 building dataframe: then units need to be summed, not just counted! "
   ]
  },
  {
   "cell_type": "code",
   "execution_count": null,
   "metadata": {
    "collapsed": true
   },
   "outputs": [],
   "source": [
    "myarray2 = (my_building_dataframe['UnitsResid'].groupby(...).sum())"
   ]
  }
 ],
 "metadata": {
  "kernelspec": {
   "display_name": "Python 3",
   "language": "python",
   "name": "python3"
  },
  "language_info": {
   "codemirror_mode": {
    "name": "ipython",
    "version": 3
   },
   "file_extension": ".py",
   "mimetype": "text/x-python",
   "name": "python",
   "nbconvert_exporter": "python",
   "pygments_lexer": "ipython3",
   "version": "3.5.2"
  }
 },
 "nbformat": 4,
 "nbformat_minor": 0
}
