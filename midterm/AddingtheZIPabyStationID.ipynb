{
 "cells": [
  {
   "cell_type": "markdown",
   "metadata": {},
   "source": [
    "# Adding the ZIPa by station ID"
   ]
  },
  {
   "cell_type": "markdown",
   "metadata": {},
   "source": [
    "1) You can create a new dataframe series (for example a numpy array or a list) of the appropriate length, then or every entry of the citibike data frame extract the start station id, and in put in that place of the new zipcode array the value corresponding to the key by that station id in a dictionary that relates station id's to zipcodes.\n",
    "You have added a column to a dataframe before, with the age of bikesr, for example.\n",
    "Here it is just a bit trickier because filling in the values for this array requires using another dataset. \n",
    "If you avoided the API you have the station id's in a dictionary (which I called 'sid_to_zip') which you got from reading the json file."
   ]
  },
  {
   "cell_type": "code",
   "execution_count": null,
   "metadata": {
    "collapsed": true
   },
   "outputs": [],
   "source": [
    "#I know ahead of time how long the array needs to be!\n",
    "my_rides_dataframe = np.zeros(my_rides_dataframe['start station id'].len())\n",
    "for i, entry in enumerate(my_rides_dataframe):\n",
    "    my_rides_dataframe[i] = sid_to_zip[entry['start station id']]"
   ]
  },
  {
   "cell_type": "markdown",
   "metadata": {},
   "source": [
    "2) Or you can create a dataframe series directly by equating it to a \"list comprehension\" that for every value in the dataframe column 'start station id' appends to the list the value of the dictionary you loaded with json relative to that one station id"
   ]
  },
  {
   "cell_type": "code",
   "execution_count": null,
   "metadata": {
    "collapsed": true
   },
   "outputs": [],
   "source": [
    "# a list comprehension is one of those lists that have a for loop inside of them\n",
    "my_rides_dataframe['ZipCode'] = [sid_to_zip[i] for i in my_rides_dataframe['start station id']]"
   ]
  },
  {
   "cell_type": "markdown",
   "metadata": {},
   "source": [
    "3) A more elegant solution uses the pandas loc function to assign the zip code values at once to all trips that have the same origin station. You have to have a \"unique\" list of stations (no duplicates in your list), which you can get for example with the function np.unique and you have to create a series to host the zip codes ahead of time"
   ]
  },
  {
   "cell_type": "code",
   "execution_count": null,
   "metadata": {
    "collapsed": true
   },
   "outputs": [],
   "source": [
    "my_rides_dataframe['ZipCode'] = np.zeros(len....)\n",
    "stids = np.unique(mydataframe['start station id'])\n",
    "for stid1 in stids:\n",
    "    my_rides_dataframe.loc[my_rides_dataframe['start station id']==stid1,'ZipCode'] = szips[stid1]"
   ]
  },
  {
   "cell_type": "markdown",
   "metadata": {},
   "source": [
    "4) the best solution though avoids for loops:"
   ]
  },
  {
   "cell_type": "code",
   "execution_count": null,
   "metadata": {
    "collapsed": true
   },
   "outputs": [],
   "source": [
    "cb2015['zipcodes'] = cb2016['start station id'].astype(str).map(stid2zip)"
   ]
  }
 ],
 "metadata": {
  "kernelspec": {
   "display_name": "Python 3",
   "language": "python",
   "name": "python3"
  },
  "language_info": {
   "codemirror_mode": {
    "name": "ipython",
    "version": 3
   },
   "file_extension": ".py",
   "mimetype": "text/x-python",
   "name": "python",
   "nbconvert_exporter": "python",
   "pygments_lexer": "ipython3",
   "version": "3.5.2"
  }
 },
 "nbformat": 4,
 "nbformat_minor": 0
}
