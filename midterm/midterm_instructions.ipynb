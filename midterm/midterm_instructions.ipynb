{
 "cells": [
  {
   "cell_type": "markdown",
   "metadata": {},
   "source": [
    "# Investigation of citibike ridership with income"
   ]
  },
  {
   "cell_type": "markdown",
   "metadata": {},
   "source": [
    "# Objective: relate the citibike ridership to income.\n",
    "### 1. Download two months of citibike data 201501 and 201601\n",
    "### 2. Download income information fron IRS for NYC\n",
    "### 3. Find the zipcodes of citibike stations by reverse geocoding the coordinates\n",
    "### 4. Find the number of rides per zipcodes in one of your 2015/01 of data \n",
    "### 5. Fit a line to ridership (number of rides over one of the 1 months of citibike data downloaded, start with 2015) vs income (total Adjusted gross income for the zip) and median income per person for that zip\n",
    "### 6. Improve the fit by removing 2 suspected outliers and quantify the improvement\n",
    "### 7. Fit a 2nd degree polynomial to the same data\n",
    "### 8. Compare FORMALLY the line and the 2nd degree polynomial fit with LR test to assess which is a better fit to your chosen significance level.\n",
    "\n",
    "## Extra Credit\n",
    "\n",
    "### 1. Compare the income to the income per person as endogenous variable. I.e. redo your best fit with income per person instead of area income and compare the fits. How do the fit compare? If it is better what does this say? If it is worse, what does this say? Discuss why it may be and if you have an explaination describe how  you would test it. If you have time go ahead and test it too!\n",
    "\n",
    "### 2. Repeat the analysis with another dataset. Are the results consistent?\n"
   ]
  },
  {
   "cell_type": "markdown",
   "metadata": {},
   "source": [
    "## 1. Download two months of citibike data: 201501 and 201601. Begin working with 201501, and if you have time (for extra credit) you will repeat the analysis for the other month, to see if your conclusions are robust. "
   ]
  },
  {
   "cell_type": "code",
   "execution_count": null,
   "metadata": {
    "collapsed": true
   },
   "outputs": [],
   "source": [
    "cb2016.head()"
   ]
  },
  {
   "cell_type": "markdown",
   "metadata": {},
   "source": [
    "## 2. Downloading income data from IRS "
   ]
  },
  {
   "cell_type": "markdown",
   "metadata": {},
   "source": [
    "### Find income data per zipcode in NYC: you can find it from IRS the file name is  14zp33ny \n",
    "### and the IRS site is https://www.irs.gov/pub/irs-soi/?C=N;O=D\n",
    "\n",
    "Use the Adjusted gross income (AGI) for every zipcode. Additionally identify the columns indicating the number of returns, the number of dependents, the number of joint returns. Together they indicate the size of the family unit, allowing you to obtain the income per person in that zipcode, from the income of the whole zipcode. \n",
    "\n",
    "Convert the zip to numeric values (with pd.to_numeric)\n",
    "\n",
    "For every zipcode the adjusted median income is the first valid row associated with that zipcode. \n",
    "\n",
    "If you need help look here [...]\n",
    "\n",
    "Store the income data in a daraframe with (at least) the columns \n",
    "\n",
    "**zipcodes,\tincome, N,\tincomePC**\n",
    "\n",
    "where zipcodes are the zipcodes, income is the AGI, N the number of returns, incomePC the AGI for the zipcode divided by (N + N dependents + N joint returns)"
   ]
  },
  {
   "cell_type": "code",
   "execution_count": null,
   "metadata": {
    "collapsed": false
   },
   "outputs": [],
   "source": [
    "incomeByZip.head\n"
   ]
  },
  {
   "cell_type": "code",
   "execution_count": null,
   "metadata": {
    "collapsed": true
   },
   "outputs": [],
   "source": [
    "#extract the right entry with iloc[0]: e.g.\n",
    "print (\"Adjusted gross income (AGI)  for zipcode 10001:\", \n",
    "       incomeByZip.loc[[10001]][\"Adjusted gross income (AGI) [3]\"].iloc[0])"
   ]
  },
  {
   "cell_type": "markdown",
   "metadata": {},
   "source": [
    "Create a new dataframe with the value of income per zipcode, and income per person per zipcode \n",
    "(income per person = income / (Nreturns + Njoint returns + Ndependents)"
   ]
  },
  {
   "cell_type": "code",
   "execution_count": 8,
   "metadata": {
    "collapsed": true
   },
   "outputs": [],
   "source": [
    "zipincome = pd.DataFrame()\n",
    "zipincome['zipcodes'] = ..."
   ]
  },
  {
   "cell_type": "code",
   "execution_count": 9,
   "metadata": {
    "collapsed": true
   },
   "outputs": [],
   "source": [
    "# compare your dataframe with mine to know you are on the right track"
   ]
  },
  {
   "cell_type": "code",
   "execution_count": 10,
   "metadata": {
    "collapsed": false
   },
   "outputs": [
    {
     "data": {
      "text/html": [
       "<div>\n",
       "<table border=\"1\" class=\"dataframe\">\n",
       "  <thead>\n",
       "    <tr style=\"text-align: right;\">\n",
       "      <th></th>\n",
       "      <th>zipcodes</th>\n",
       "      <th>income</th>\n",
       "      <th>N</th>\n",
       "      <th>Njoint</th>\n",
       "      <th>Ndeps</th>\n",
       "      <th>incomePC</th>\n",
       "    </tr>\n",
       "  </thead>\n",
       "  <tbody>\n",
       "    <tr>\n",
       "      <th>0</th>\n",
       "      <td>0</td>\n",
       "      <td>766646080</td>\n",
       "      <td>9397410</td>\n",
       "      <td>2942890</td>\n",
       "      <td>5539120</td>\n",
       "      <td>42.878688</td>\n",
       "    </tr>\n",
       "    <tr>\n",
       "      <th>1</th>\n",
       "      <td>99999</td>\n",
       "      <td>14338084</td>\n",
       "      <td>88940</td>\n",
       "      <td>28130</td>\n",
       "      <td>43810</td>\n",
       "      <td>89.122849</td>\n",
       "    </tr>\n",
       "    <tr>\n",
       "      <th>2</th>\n",
       "      <td>10001</td>\n",
       "      <td>2363960</td>\n",
       "      <td>14080</td>\n",
       "      <td>2410</td>\n",
       "      <td>3250</td>\n",
       "      <td>119.754813</td>\n",
       "    </tr>\n",
       "    <tr>\n",
       "      <th>3</th>\n",
       "      <td>10002</td>\n",
       "      <td>2215542</td>\n",
       "      <td>43370</td>\n",
       "      <td>11040</td>\n",
       "      <td>19160</td>\n",
       "      <td>30.114748</td>\n",
       "    </tr>\n",
       "    <tr>\n",
       "      <th>4</th>\n",
       "      <td>10003</td>\n",
       "      <td>6910992</td>\n",
       "      <td>29810</td>\n",
       "      <td>5460</td>\n",
       "      <td>4790</td>\n",
       "      <td>172.516026</td>\n",
       "    </tr>\n",
       "  </tbody>\n",
       "</table>\n",
       "</div>"
      ],
      "text/plain": [
       "   zipcodes     income        N   Njoint    Ndeps    incomePC\n",
       "0         0  766646080  9397410  2942890  5539120   42.878688\n",
       "1     99999   14338084    88940    28130    43810   89.122849\n",
       "2     10001    2363960    14080     2410     3250  119.754813\n",
       "3     10002    2215542    43370    11040    19160   30.114748\n",
       "4     10003    6910992    29810     5460     4790  172.516026"
      ]
     },
     "execution_count": 10,
     "metadata": {},
     "output_type": "execute_result"
    }
   ],
   "source": [
    "zipincome.head()"
   ]
  },
  {
   "cell_type": "markdown",
   "metadata": {},
   "source": [
    "## 3. Find the zipcodes of citibike stations by reverse geocoding the coordinates\n",
    "You can use the google API including the long and latitide of each station: CAREFUL!!: you do not need a separate API query per ride, just one per each citibike station! You have a limit of 2500 requests/day, so you cannot submit a request per ride. (You can use pd.DataFrame.drop_duplicates, for example, to identify identical coordinate pairs or identical station ids, so as to not to repeat queries for the same station)\n",
    "\n",
    "https://developers.google.com/maps/documentation/geocoding/intro\n",
    "\n",
    "If you do not have an API key for googlemaps you can get one instantly here\n",
    "https://developers.google.com/maps/documentation/geocoding/get-api-key\n",
    "\n",
    "\n",
    "Once you have the zip for a lat/lon pair (lat, lon) you can use a condition like \n",
    "```\n",
    "(cb['start station latitude'] == lat) * (cb['start station longitude'] == lon)\n",
    "```\n",
    "as index to identify the rows of the citibike datframe that contain those coordinates and are associated to that zipcode\n",
    "```\n",
    "cb['zipcodes'](cb['start station latitude'] == lat) * (cb['start station longitude'] == lon)] = thatzipcode\n",
    "```\n",
    "\n",
    "If you need help go here [a link will say I created a function that given a URL returns a the zipcode. You can use it as \n",
    "revgeo = getJsonParsedData(url)[\"results\"][0]['address_components'][-1]['long_name']]\n",
    "\n",
    "If you are not up using the API for that you can download the zipcode of each citibike station here \n",
    "http://cosmo.nyu.edu/~fb55/UI_CUSP_2015/data/stationzips.json\n",
    "However, this will cost you 0.5/10 points.\n"
   ]
  },
  {
   "cell_type": "code",
   "execution_count": 12,
   "metadata": {
    "collapsed": false
   },
   "outputs": [
    {
     "name": "stderr",
     "output_type": "stream",
     "text": [
      "//anaconda/lib/python3.5/site-packages/pandas/computation/expressions.py:190: UserWarning: evaluating in Python space because the '*' operator is not supported by numexpr for the bool dtype, use '&' instead\n",
      "  unsupported[op_str]))\n",
      "//anaconda/lib/python3.5/site-packages/ipykernel/__main__.py:9: SettingWithCopyWarning: \n",
      "A value is trying to be set on a copy of a slice from a DataFrame\n",
      "\n",
      "See the caveats in the documentation: http://pandas.pydata.org/pandas-docs/stable/indexing.html#indexing-view-versus-copy\n",
      "//anaconda/lib/python3.5/site-packages/pandas/core/internals.py:4417: FutureWarning: elementwise comparison failed; returning scalar instead, but in the future will perform elementwise comparison\n",
      "  comp = (nn == nn_at)\n"
     ]
    },
    {
     "data": {
      "text/html": [
       "<div>\n",
       "<table border=\"1\" class=\"dataframe\">\n",
       "  <thead>\n",
       "    <tr style=\"text-align: right;\">\n",
       "      <th></th>\n",
       "      <th>tripduration</th>\n",
       "      <th>starttime</th>\n",
       "      <th>stoptime</th>\n",
       "      <th>start station id</th>\n",
       "      <th>start station name</th>\n",
       "      <th>start station latitude</th>\n",
       "      <th>start station longitude</th>\n",
       "      <th>end station id</th>\n",
       "      <th>end station name</th>\n",
       "      <th>end station latitude</th>\n",
       "      <th>end station longitude</th>\n",
       "      <th>bikeid</th>\n",
       "      <th>usertype</th>\n",
       "      <th>birth year</th>\n",
       "      <th>gender</th>\n",
       "      <th>zipcodes</th>\n",
       "    </tr>\n",
       "  </thead>\n",
       "  <tbody>\n",
       "    <tr>\n",
       "      <th>0</th>\n",
       "      <td>1338</td>\n",
       "      <td>6/1/2015 0:00</td>\n",
       "      <td>6/1/2015 0:22</td>\n",
       "      <td>128</td>\n",
       "      <td>MacDougal St &amp; Prince St</td>\n",
       "      <td>40.727103</td>\n",
       "      <td>-74.002971</td>\n",
       "      <td>2021</td>\n",
       "      <td>W 45 St &amp; 8 Ave</td>\n",
       "      <td>40.759291</td>\n",
       "      <td>-73.988597</td>\n",
       "      <td>20721</td>\n",
       "      <td>Subscriber</td>\n",
       "      <td>1984</td>\n",
       "      <td>1</td>\n",
       "      <td>2926</td>\n",
       "    </tr>\n",
       "    <tr>\n",
       "      <th>1</th>\n",
       "      <td>290</td>\n",
       "      <td>6/1/2015 0:00</td>\n",
       "      <td>6/1/2015 0:05</td>\n",
       "      <td>438</td>\n",
       "      <td>St Marks Pl &amp; 1 Ave</td>\n",
       "      <td>40.727791</td>\n",
       "      <td>-73.985649</td>\n",
       "      <td>312</td>\n",
       "      <td>Allen St &amp; E Houston St</td>\n",
       "      <td>40.722055</td>\n",
       "      <td>-73.989111</td>\n",
       "      <td>21606</td>\n",
       "      <td>Subscriber</td>\n",
       "      <td>1997</td>\n",
       "      <td>1</td>\n",
       "      <td>10003</td>\n",
       "    </tr>\n",
       "    <tr>\n",
       "      <th>2</th>\n",
       "      <td>634</td>\n",
       "      <td>6/1/2015 0:01</td>\n",
       "      <td>6/1/2015 0:11</td>\n",
       "      <td>383</td>\n",
       "      <td>Greenwich Ave &amp; Charles St</td>\n",
       "      <td>40.735238</td>\n",
       "      <td>-74.000271</td>\n",
       "      <td>388</td>\n",
       "      <td>W 26 St &amp; 10 Ave</td>\n",
       "      <td>40.749718</td>\n",
       "      <td>-74.002950</td>\n",
       "      <td>16595</td>\n",
       "      <td>Subscriber</td>\n",
       "      <td>1993</td>\n",
       "      <td>1</td>\n",
       "      <td>10011</td>\n",
       "    </tr>\n",
       "    <tr>\n",
       "      <th>3</th>\n",
       "      <td>159</td>\n",
       "      <td>6/1/2015 0:01</td>\n",
       "      <td>6/1/2015 0:04</td>\n",
       "      <td>361</td>\n",
       "      <td>Allen St &amp; Hester St</td>\n",
       "      <td>40.716059</td>\n",
       "      <td>-73.991908</td>\n",
       "      <td>531</td>\n",
       "      <td>Forsyth St &amp; Broome St</td>\n",
       "      <td>40.718939</td>\n",
       "      <td>-73.992663</td>\n",
       "      <td>16949</td>\n",
       "      <td>Subscriber</td>\n",
       "      <td>1981</td>\n",
       "      <td>1</td>\n",
       "      <td>5416</td>\n",
       "    </tr>\n",
       "    <tr>\n",
       "      <th>4</th>\n",
       "      <td>1233</td>\n",
       "      <td>6/1/2015 0:02</td>\n",
       "      <td>6/1/2015 0:22</td>\n",
       "      <td>382</td>\n",
       "      <td>University Pl &amp; E 14 St</td>\n",
       "      <td>40.734927</td>\n",
       "      <td>-73.992005</td>\n",
       "      <td>532</td>\n",
       "      <td>S 5 Pl &amp; S 4 St</td>\n",
       "      <td>40.710451</td>\n",
       "      <td>-73.960876</td>\n",
       "      <td>17028</td>\n",
       "      <td>Customer</td>\n",
       "      <td>NaN</td>\n",
       "      <td>0</td>\n",
       "      <td>4510</td>\n",
       "    </tr>\n",
       "  </tbody>\n",
       "</table>\n",
       "</div>"
      ],
      "text/plain": [
       "   tripduration      starttime       stoptime  start station id  \\\n",
       "0          1338  6/1/2015 0:00  6/1/2015 0:22               128   \n",
       "1           290  6/1/2015 0:00  6/1/2015 0:05               438   \n",
       "2           634  6/1/2015 0:01  6/1/2015 0:11               383   \n",
       "3           159  6/1/2015 0:01  6/1/2015 0:04               361   \n",
       "4          1233  6/1/2015 0:02  6/1/2015 0:22               382   \n",
       "\n",
       "           start station name  start station latitude  \\\n",
       "0    MacDougal St & Prince St               40.727103   \n",
       "1         St Marks Pl & 1 Ave               40.727791   \n",
       "2  Greenwich Ave & Charles St               40.735238   \n",
       "3        Allen St & Hester St               40.716059   \n",
       "4     University Pl & E 14 St               40.734927   \n",
       "\n",
       "   start station longitude  end station id         end station name  \\\n",
       "0               -74.002971            2021          W 45 St & 8 Ave   \n",
       "1               -73.985649             312  Allen St & E Houston St   \n",
       "2               -74.000271             388         W 26 St & 10 Ave   \n",
       "3               -73.991908             531   Forsyth St & Broome St   \n",
       "4               -73.992005             532          S 5 Pl & S 4 St   \n",
       "\n",
       "   end station latitude  end station longitude  bikeid    usertype  \\\n",
       "0             40.759291             -73.988597   20721  Subscriber   \n",
       "1             40.722055             -73.989111   21606  Subscriber   \n",
       "2             40.749718             -74.002950   16595  Subscriber   \n",
       "3             40.718939             -73.992663   16949  Subscriber   \n",
       "4             40.710451             -73.960876   17028    Customer   \n",
       "\n",
       "   birth year  gender zipcodes  \n",
       "0        1984       1     2926  \n",
       "1        1997       1    10003  \n",
       "2        1993       1    10011  \n",
       "3        1981       1     5416  \n",
       "4         NaN       0     4510  "
      ]
     },
     "execution_count": 12,
     "metadata": {},
     "output_type": "execute_result"
    }
   ],
   "source": [
    "# you can compare your dataframe with mine to check that you are on track\n",
    "cb2015.head()"
   ]
  },
  {
   "cell_type": "code",
   "execution_count": 13,
   "metadata": {
    "collapsed": false
   },
   "outputs": [
    {
     "data": {
      "text/html": [
       "<div>\n",
       "<table border=\"1\" class=\"dataframe\">\n",
       "  <thead>\n",
       "    <tr style=\"text-align: right;\">\n",
       "      <th></th>\n",
       "      <th>zipcodes</th>\n",
       "      <th>tripduration</th>\n",
       "      <th>starttime</th>\n",
       "      <th>stoptime</th>\n",
       "      <th>start station id</th>\n",
       "      <th>start station name</th>\n",
       "      <th>start station latitude</th>\n",
       "      <th>start station longitude</th>\n",
       "      <th>end station id</th>\n",
       "      <th>end station name</th>\n",
       "      <th>end station latitude</th>\n",
       "      <th>end station longitude</th>\n",
       "      <th>bikeid</th>\n",
       "      <th>usertype</th>\n",
       "      <th>birth year</th>\n",
       "      <th>gender</th>\n",
       "    </tr>\n",
       "  </thead>\n",
       "  <tbody>\n",
       "    <tr>\n",
       "      <th>0</th>\n",
       "      <td>0914</td>\n",
       "      <td>3675</td>\n",
       "      <td>3675</td>\n",
       "      <td>3675</td>\n",
       "      <td>3675</td>\n",
       "      <td>3675</td>\n",
       "      <td>3675</td>\n",
       "      <td>3675</td>\n",
       "      <td>3675</td>\n",
       "      <td>3675</td>\n",
       "      <td>3675</td>\n",
       "      <td>3675</td>\n",
       "      <td>3675</td>\n",
       "      <td>3675</td>\n",
       "      <td>3369</td>\n",
       "      <td>3675</td>\n",
       "    </tr>\n",
       "    <tr>\n",
       "      <th>1</th>\n",
       "      <td>10001</td>\n",
       "      <td>51691</td>\n",
       "      <td>51691</td>\n",
       "      <td>51691</td>\n",
       "      <td>51691</td>\n",
       "      <td>51691</td>\n",
       "      <td>51691</td>\n",
       "      <td>51691</td>\n",
       "      <td>51691</td>\n",
       "      <td>51691</td>\n",
       "      <td>51691</td>\n",
       "      <td>51691</td>\n",
       "      <td>51691</td>\n",
       "      <td>51691</td>\n",
       "      <td>45571</td>\n",
       "      <td>51691</td>\n",
       "    </tr>\n",
       "    <tr>\n",
       "      <th>2</th>\n",
       "      <td>10002</td>\n",
       "      <td>45970</td>\n",
       "      <td>45970</td>\n",
       "      <td>45970</td>\n",
       "      <td>45970</td>\n",
       "      <td>45970</td>\n",
       "      <td>45970</td>\n",
       "      <td>45970</td>\n",
       "      <td>45970</td>\n",
       "      <td>45970</td>\n",
       "      <td>45970</td>\n",
       "      <td>45970</td>\n",
       "      <td>45970</td>\n",
       "      <td>45970</td>\n",
       "      <td>40795</td>\n",
       "      <td>45970</td>\n",
       "    </tr>\n",
       "    <tr>\n",
       "      <th>3</th>\n",
       "      <td>10003</td>\n",
       "      <td>74663</td>\n",
       "      <td>74663</td>\n",
       "      <td>74663</td>\n",
       "      <td>74663</td>\n",
       "      <td>74663</td>\n",
       "      <td>74663</td>\n",
       "      <td>74663</td>\n",
       "      <td>74663</td>\n",
       "      <td>74663</td>\n",
       "      <td>74663</td>\n",
       "      <td>74663</td>\n",
       "      <td>74663</td>\n",
       "      <td>74663</td>\n",
       "      <td>67536</td>\n",
       "      <td>74663</td>\n",
       "    </tr>\n",
       "    <tr>\n",
       "      <th>4</th>\n",
       "      <td>10004</td>\n",
       "      <td>13698</td>\n",
       "      <td>13698</td>\n",
       "      <td>13698</td>\n",
       "      <td>13698</td>\n",
       "      <td>13698</td>\n",
       "      <td>13698</td>\n",
       "      <td>13698</td>\n",
       "      <td>13698</td>\n",
       "      <td>13698</td>\n",
       "      <td>13698</td>\n",
       "      <td>13698</td>\n",
       "      <td>13698</td>\n",
       "      <td>13698</td>\n",
       "      <td>9850</td>\n",
       "      <td>13698</td>\n",
       "    </tr>\n",
       "  </tbody>\n",
       "</table>\n",
       "</div>"
      ],
      "text/plain": [
       "  zipcodes  tripduration  starttime  stoptime  start station id  \\\n",
       "0     0914          3675       3675      3675              3675   \n",
       "1    10001         51691      51691     51691             51691   \n",
       "2    10002         45970      45970     45970             45970   \n",
       "3    10003         74663      74663     74663             74663   \n",
       "4    10004         13698      13698     13698             13698   \n",
       "\n",
       "   start station name  start station latitude  start station longitude  \\\n",
       "0                3675                    3675                     3675   \n",
       "1               51691                   51691                    51691   \n",
       "2               45970                   45970                    45970   \n",
       "3               74663                   74663                    74663   \n",
       "4               13698                   13698                    13698   \n",
       "\n",
       "   end station id  end station name  end station latitude  \\\n",
       "0            3675              3675                  3675   \n",
       "1           51691             51691                 51691   \n",
       "2           45970             45970                 45970   \n",
       "3           74663             74663                 74663   \n",
       "4           13698             13698                 13698   \n",
       "\n",
       "   end station longitude  bikeid  usertype  birth year  gender  \n",
       "0                   3675    3675      3675        3369    3675  \n",
       "1                  51691   51691     51691       45571   51691  \n",
       "2                  45970   45970     45970       40795   45970  \n",
       "3                  74663   74663     74663       67536   74663  \n",
       "4                  13698   13698     13698        9850   13698  "
      ]
     },
     "execution_count": 13,
     "metadata": {},
     "output_type": "execute_result"
    }
   ],
   "source": [
    "# you can compare your dataframe with mine to check that you are on track\n",
    "\n",
    "#grouping and counting\n",
    "cbgroup = cb2015.groupby .... count()\n",
    "cbgroup.head()"
   ]
  },
  {
   "cell_type": "markdown",
   "metadata": {},
   "source": [
    "# MERGE\n",
    "notice there may be lots of invalid zipcodes from bad reverse geocoding!! Drop all data w zipcodes > 1000"
   ]
  },
  {
   "cell_type": "code",
   "execution_count": 19,
   "metadata": {
    "collapsed": false
   },
   "outputs": [],
   "source": [
    "cbincome = pd.merge(..."
   ]
  },
  {
   "cell_type": "code",
   "execution_count": 20,
   "metadata": {
    "collapsed": false
   },
   "outputs": [
    {
     "data": {
      "text/html": [
       "<div>\n",
       "<table border=\"1\" class=\"dataframe\">\n",
       "  <thead>\n",
       "    <tr style=\"text-align: right;\">\n",
       "      <th></th>\n",
       "      <th>zipcodes</th>\n",
       "      <th>income</th>\n",
       "      <th>N</th>\n",
       "      <th>Njoint</th>\n",
       "      <th>Ndeps</th>\n",
       "      <th>incomePC</th>\n",
       "      <th>Nrides</th>\n",
       "    </tr>\n",
       "  </thead>\n",
       "  <tbody>\n",
       "    <tr>\n",
       "      <th>0</th>\n",
       "      <td>10001</td>\n",
       "      <td>2363960</td>\n",
       "      <td>14080</td>\n",
       "      <td>2410</td>\n",
       "      <td>3250</td>\n",
       "      <td>119.754813</td>\n",
       "      <td>51691</td>\n",
       "    </tr>\n",
       "    <tr>\n",
       "      <th>1</th>\n",
       "      <td>10002</td>\n",
       "      <td>2215542</td>\n",
       "      <td>43370</td>\n",
       "      <td>11040</td>\n",
       "      <td>19160</td>\n",
       "      <td>30.114748</td>\n",
       "      <td>45970</td>\n",
       "    </tr>\n",
       "    <tr>\n",
       "      <th>2</th>\n",
       "      <td>10003</td>\n",
       "      <td>6910992</td>\n",
       "      <td>29810</td>\n",
       "      <td>5460</td>\n",
       "      <td>4790</td>\n",
       "      <td>172.516026</td>\n",
       "      <td>74663</td>\n",
       "    </tr>\n",
       "    <tr>\n",
       "      <th>3</th>\n",
       "      <td>10004</td>\n",
       "      <td>925417</td>\n",
       "      <td>2540</td>\n",
       "      <td>840</td>\n",
       "      <td>1130</td>\n",
       "      <td>205.192239</td>\n",
       "      <td>13698</td>\n",
       "    </tr>\n",
       "    <tr>\n",
       "      <th>4</th>\n",
       "      <td>10005</td>\n",
       "      <td>5545849</td>\n",
       "      <td>5890</td>\n",
       "      <td>1340</td>\n",
       "      <td>1340</td>\n",
       "      <td>647.123571</td>\n",
       "      <td>9631</td>\n",
       "    </tr>\n",
       "  </tbody>\n",
       "</table>\n",
       "</div>"
      ],
      "text/plain": [
       "   zipcodes   income      N  Njoint  Ndeps    incomePC  Nrides\n",
       "0     10001  2363960  14080    2410   3250  119.754813   51691\n",
       "1     10002  2215542  43370   11040  19160   30.114748   45970\n",
       "2     10003  6910992  29810    5460   4790  172.516026   74663\n",
       "3     10004   925417   2540     840   1130  205.192239   13698\n",
       "4     10005  5545849   5890    1340   1340  647.123571    9631"
      ]
     },
     "execution_count": 20,
     "metadata": {},
     "output_type": "execute_result"
    }
   ],
   "source": [
    "cbincome.head()"
   ]
  },
  {
   "cell_type": "markdown",
   "metadata": {},
   "source": [
    "# 5. Plot and fit the data"
   ]
  },
  {
   "cell_type": "markdown",
   "metadata": {},
   "source": [
    "# 6. Choose two high leverage points that may be outliers, fit the data without them and compare the fit\n"
   ]
  },
  {
   "cell_type": "markdown",
   "metadata": {},
   "source": [
    "# 7. Fit a 2nd degree polynomial and assess if the addition of the extra parameter is justified by the data"
   ]
  },
  {
   "cell_type": "markdown",
   "metadata": {},
   "source": [
    "# EC:  Fit the rides to the income per person, discuss the result"
   ]
  },
  {
   "cell_type": "markdown",
   "metadata": {
    "collapsed": true
   },
   "source": [
    "# EC:  Test with 2016, discuss the results"
   ]
  },
  {
   "cell_type": "code",
   "execution_count": null,
   "metadata": {
    "collapsed": true
   },
   "outputs": [],
   "source": []
  }
 ],
 "metadata": {
  "kernelspec": {
   "display_name": "Python 3",
   "language": "python",
   "name": "python3"
  },
  "language_info": {
   "codemirror_mode": {
    "name": "ipython",
    "version": 3
   },
   "file_extension": ".py",
   "mimetype": "text/x-python",
   "name": "python",
   "nbconvert_exporter": "python",
   "pygments_lexer": "ipython3",
   "version": "3.5.2"
  }
 },
 "nbformat": 4,
 "nbformat_minor": 0
}
