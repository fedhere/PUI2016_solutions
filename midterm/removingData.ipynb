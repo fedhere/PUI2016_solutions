{
 "cells": [
  {
   "cell_type": "markdown",
   "metadata": {},
   "source": [
    "# Removing data in DataFrames"
   ]
  },
  {
   "cell_type": "markdown",
   "metadata": {},
   "source": [
    "If you want to remove missing or spurious, or not null data there are many ways to remove values from your arrays or series. \n",
    "\n",
    "with a dataframe this tells it better then i could:\n",
    "http://pandas.pydata.org/pandas-docs/stable/missing_data.html"
   ]
  },
  {
   "cell_type": "markdown",
   "metadata": {},
   "source": [
    "1) I can use the .isreal() or .notnull() attributes\n",
    "\n",
    "allfemales[k].applymap(np.isreal) (from HW5)\n",
    "\n",
    "pandas.notnull(myseries)\n",
    "\n",
    "pandas.isnull(myseries)\n"
   ]
  },
  {
   "cell_type": "markdown",
   "metadata": {},
   "source": [
    "then you can index the array or series you want to clean with a Boolean array which contains True at the index where you want to preserv a value, False at the indeces of the values you want removed"
   ]
  },
  {
   "cell_type": "code",
   "execution_count": null,
   "metadata": {
    "collapsed": true
   },
   "outputs": [],
   "source": [
    "#this will contain True where BOTH conditions are satisfied \n",
    "#(I could also have used the product * in place of &) \n",
    "indexAnd = ( (myarray > 0) & (myarray < 3000) ) \n",
    "\n",
    "#this will contain True where BOTH conditions are satisfied \n",
    "#(I could also have used the product + in place of |) \n",
    "indexOr = ( (myarray > 0) | (myarray < 3000) ) #this will contain True where at least one of the 2 conditions are satisfied.\n",
    "\n",
    "#then  i can use this index arrays to select the values i like from \"myarray\" as:\n",
    "myarray[indexAnd] #only the values of myarray that are >0 and <3000 will be considered\n",
    "myarray[indexOr] #only the values of myarray that are either >0 or <3000 (or both) will be considered"
   ]
  },
  {
   "cell_type": "markdown",
   "metadata": {},
   "source": [
    "2) you can used numpy masked arrays instead of numpy arrays: then your mask will be the opposite of the index i described above: if a value is masked it is ignored, so you want the mask to have Trues where the value is to be ignored, False where it is to be kept."
   ]
  },
  {
   "cell_type": "code",
   "execution_count": null,
   "metadata": {
    "collapsed": true
   },
   "outputs": [],
   "source": [
    "import numpy.ma as nma\n",
    "\n",
    "mymaskedarray = nma.array(myarray)\n",
    "mymaskedarray.mask = (~indexAnd) #this has vlues masked (True in the mask) where myarray is <= 0 or >= 3000"
   ]
  },
  {
   "cell_type": "code",
   "execution_count": null,
   "metadata": {
    "collapsed": true
   },
   "outputs": [],
   "source": [
    "#or \n",
    "all_males=np.ma.array(...)\n",
    "all_females=np.ma.array(...)\n",
    "allmask = [np.isnan(all_males) + np.isnan(all_females)]\n",
    "\n",
    "all_females.mask = allmask\n",
    "all_males.mask = allmask\n"
   ]
  },
  {
   "cell_type": "markdown",
   "metadata": {},
   "source": [
    "3) if all else fails you can make new arrays. \n",
    "remember that if you do that for any pairwise analysis (e.g. Pearsons, or regression too!)\n",
    "you need to remove values that are not valid for either one or the other array! \n",
    "otherwise you will shuffle the pairs!\n",
    "\n"
   ]
  },
  {
   "cell_type": "code",
   "execution_count": null,
   "metadata": {
    "collapsed": true
   },
   "outputs": [],
   "source": [
    "all_males=np.array(...) #not a masked array\n",
    "all_females=np.array(...)\n",
    "allmask = [np.isnan(all_males) + np.isnan(all_females)]\n",
    "\n",
    "newmales = []\n",
    "newfemales = []\n",
    "for i in range(len(allmask)):\n",
    "    if allmask[i]:\n",
    "        #valued to be rejected\n",
    "        continue \n",
    "    else: \n",
    "        newfemales.append(all_females[i])\n",
    "        newmales.append(all_males[i])        "
   ]
  },
  {
   "cell_type": "markdown",
   "metadata": {},
   "source": [
    "(another trick: i actually know the final length of the arrays newfemale and newmale: it is the number of True values in allmask and since True =1 and False = 0 the number of True values in allmask is allmask.sum() - cool, huh! so i do not havbe to use ugly series, i can use arrays)"
   ]
  },
  {
   "cell_type": "code",
   "execution_count": null,
   "metadata": {
    "collapsed": true
   },
   "outputs": [],
   "source": [
    "newmales = np.zeros(allmask.sum())\n",
    "newfemales = np.zeros(allmask.sum())\n",
    "j=0\n",
    "for i in range(len(allmask)):\n",
    "    if allmask[i]:\n",
    "        #valued to be rejected\n",
    "        continue \n",
    "    else: \n",
    "        newfemales[j] = all_females[i]\n",
    "        newmales[j] = all_males[i]   \n",
    "        j=j+1\n",
    "        \n",
    "      "
   ]
  }
 ],
 "metadata": {
  "kernelspec": {
   "display_name": "Python 3",
   "language": "python",
   "name": "python3"
  },
  "language_info": {
   "codemirror_mode": {
    "name": "ipython",
    "version": 3
   },
   "file_extension": ".py",
   "mimetype": "text/x-python",
   "name": "python",
   "nbconvert_exporter": "python",
   "pygments_lexer": "ipython3",
   "version": "3.5.2"
  }
 },
 "nbformat": 4,
 "nbformat_minor": 0
}
